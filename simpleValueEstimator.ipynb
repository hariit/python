{
 "cells": [
  {
   "cell_type": "code",
   "execution_count": 2,
   "metadata": {},
   "outputs": [
    {
     "name": "stdout",
     "output_type": "stream",
     "text": [
      "Estimated valued:\n",
      "449600\n"
     ]
    }
   ],
   "source": [
    "def estimate_home_value(size_in_sqft, number_of_bedrooms):\n",
    "    #Assume all home are worth at least $50,000\n",
    "    value = 50000\n",
    "    \n",
    "    #Adjust the value estimate based on the size of the house\n",
    "    value = value + (size_in_sqft * 92)\n",
    "    \n",
    "    #Adjust the value estimate based on the number of bedrooms\n",
    "    value = value + (number_of_bedrooms * 10000)\n",
    "    \n",
    "    return value\n",
    "\n",
    "#Estimate the value of our house\n",
    "# - 5 bedrooms\n",
    "# - 3800 Sqft\n",
    "# - Actual Value: $450,000\n",
    "\n",
    "value = estimate_home_value(3800, 5)\n",
    "\n",
    "print(\"Estimated valued:\")\n",
    "print(value)"
   ]
  },
  {
   "cell_type": "code",
   "execution_count": null,
   "metadata": {},
   "outputs": [],
   "source": []
  }
 ],
 "metadata": {
  "kernelspec": {
   "display_name": "Python 3",
   "language": "python",
   "name": "python3"
  },
  "language_info": {
   "codemirror_mode": {
    "name": "ipython",
    "version": 3
   },
   "file_extension": ".py",
   "mimetype": "text/x-python",
   "name": "python",
   "nbconvert_exporter": "python",
   "pygments_lexer": "ipython3",
   "version": "3.7.4"
  }
 },
 "nbformat": 4,
 "nbformat_minor": 4
}
