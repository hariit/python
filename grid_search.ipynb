{
 "cells": [
  {
   "cell_type": "code",
   "execution_count": 1,
   "metadata": {},
   "outputs": [],
   "source": [
    "import pandas\n",
    "from sklearn import ensemble\n",
    "from sklearn.model_selection import train_test_split\n",
    "from sklearn.model_selection import GridSearchCV\n",
    "from sklearn.metrics import mean_absolute_error"
   ]
  },
  {
   "cell_type": "code",
   "execution_count": 2,
   "metadata": {},
   "outputs": [],
   "source": [
    "# Load the data set\n",
    "df = pandas.read_csv(\"data//ml_house_data_set.csv\")"
   ]
  },
  {
   "cell_type": "code",
   "execution_count": 3,
   "metadata": {},
   "outputs": [],
   "source": [
    "# Remove the fields from the data set that we don't want to include in our model\n",
    "del df['house_number']\n",
    "del df['unit_number']\n",
    "del df['street_name']\n",
    "del df['zip_code']"
   ]
  },
  {
   "cell_type": "code",
   "execution_count": 4,
   "metadata": {},
   "outputs": [],
   "source": [
    "# Replace categorical data with one-hot encoded data\n",
    "features_df = pandas.get_dummies(df, columns=['garage_type', 'city'])\n",
    "del features_df['sale_price']"
   ]
  },
  {
   "cell_type": "code",
   "execution_count": 5,
   "metadata": {},
   "outputs": [],
   "source": [
    "X = features_df.values\n",
    "y = df['sale_price'].values"
   ]
  },
  {
   "cell_type": "code",
   "execution_count": 6,
   "metadata": {},
   "outputs": [],
   "source": [
    "# Split the data set in a training set (70%) and a test set (30%)\n",
    "X_train, X_test, y_train, y_test = train_test_split(X, y, test_size=0.3, random_state=0)"
   ]
  },
  {
   "cell_type": "code",
   "execution_count": 7,
   "metadata": {},
   "outputs": [],
   "source": [
    "# Create the model\n",
    "model = ensemble.GradientBoostingRegressor()"
   ]
  },
  {
   "cell_type": "code",
   "execution_count": 8,
   "metadata": {},
   "outputs": [],
   "source": [
    "# Parameters we want to try\n",
    "param_grid = {\n",
    "    'n_estimators': [500, 1000, 3000],\n",
    "    'max_depth': [4, 6],\n",
    "    'min_samples_leaf': [3, 5, 9, 17],\n",
    "    'learning_rate': [0.1, 0.05, 0.02, 0.01],\n",
    "    'max_features': [1.0, 0.3, 0.1],\n",
    "    'loss': ['ls', 'lad', 'huber']\n",
    "}"
   ]
  },
  {
   "cell_type": "code",
   "execution_count": 11,
   "metadata": {},
   "outputs": [],
   "source": [
    "# Define the grid search we want to run. Run it with four cpus in parallel.\n",
    "gs_cv = GridSearchCV(model, param_grid, n_jobs=4, verbose=100)"
   ]
  },
  {
   "cell_type": "code",
   "execution_count": null,
   "metadata": {},
   "outputs": [
    {
     "name": "stdout",
     "output_type": "stream",
     "text": [
      "Fitting 3 folds for each of 864 candidates, totalling 2592 fits\n",
      "[Parallel(n_jobs=4)]: Using backend LokyBackend with 4 concurrent workers.\n",
      "Pickling array (shape=(29892, 63), dtype=object).\n",
      "Pickling array (shape=(29892,), dtype=float64).\n",
      "Pickling array (shape=(19928,), dtype=int64).\n",
      "Pickling array (shape=(9964,), dtype=int64).\n",
      "Pickling array (shape=(29892, 63), dtype=object).\n",
      "Pickling array (shape=(29892,), dtype=float64).\n",
      "Pickling array (shape=(19928,), dtype=int64).\n",
      "Pickling array (shape=(9964,), dtype=int64).\n",
      "Pickling array (shape=(29892, 63), dtype=object).\n",
      "Pickling array (shape=(29892,), dtype=float64).\n",
      "Pickling array (shape=(19928,), dtype=int64).\n",
      "Pickling array (shape=(9964,), dtype=int64).\n",
      "Pickling array (shape=(29892, 63), dtype=object).\n",
      "Pickling array (shape=(29892,), dtype=float64).\n",
      "Pickling array (shape=(19928,), dtype=int64).\n",
      "Pickling array (shape=(9964,), dtype=int64).\n",
      "Pickling array (shape=(29892, 63), dtype=object).\n",
      "Pickling array (shape=(29892,), dtype=float64).\n",
      "Pickling array (shape=(19928,), dtype=int64).\n",
      "Pickling array (shape=(9964,), dtype=int64).\n",
      "[Parallel(n_jobs=4)]: Done   1 tasks      | elapsed:  1.7min\n",
      "Pickling array (shape=(29892, 63), dtype=object).\n",
      "[Parallel(n_jobs=4)]: Done   2 tasks      | elapsed:  1.7min\n",
      "Pickling array (shape=(29892,), dtype=float64).\n",
      "Pickling array (shape=(19928,), dtype=int64).\n",
      "Pickling array (shape=(9964,), dtype=int64).\n",
      "Pickling array (shape=(29892, 63), dtype=object).\n",
      "[Parallel(n_jobs=4)]: Done   3 tasks      | elapsed:  1.7min\n",
      "Pickling array (shape=(29892,), dtype=float64).\n",
      "Pickling array (shape=(19928,), dtype=int64).\n",
      "Pickling array (shape=(9964,), dtype=int64).\n",
      "Pickling array (shape=(29892, 63), dtype=object).\n",
      "Pickling array (shape=(29892,), dtype=float64).\n",
      "Pickling array (shape=(19928,), dtype=int64).\n",
      "Pickling array (shape=(9964,), dtype=int64).\n",
      "[Parallel(n_jobs=4)]: Done   4 tasks      | elapsed:  3.4min\n",
      "Pickling array (shape=(29892, 63), dtype=object).\n",
      "Pickling array (shape=(29892,), dtype=float64).\n",
      "Pickling array (shape=(19928,), dtype=int64).\n",
      "Pickling array (shape=(9964,), dtype=int64).\n",
      "[Parallel(n_jobs=4)]: Done   5 tasks      | elapsed:  5.2min\n",
      "Pickling array (shape=(29892, 63), dtype=object).\n",
      "Pickling array (shape=(29892,), dtype=float64).\n",
      "Pickling array (shape=(19928,), dtype=int64).\n",
      "Pickling array (shape=(9964,), dtype=int64).\n",
      "[Parallel(n_jobs=4)]: Done   6 tasks      | elapsed:  5.2min\n",
      "Pickling array (shape=(29892, 63), dtype=object).\n",
      "Pickling array (shape=(29892,), dtype=float64).\n",
      "Pickling array (shape=(19928,), dtype=int64).\n",
      "Pickling array (shape=(9964,), dtype=int64).\n",
      "[Parallel(n_jobs=4)]: Done   7 tasks      | elapsed:  7.2min\n",
      "Pickling array (shape=(29892, 63), dtype=object).\n",
      "Pickling array (shape=(29892,), dtype=float64).\n",
      "Pickling array (shape=(19928,), dtype=int64).\n",
      "Pickling array (shape=(9964,), dtype=int64).\n",
      "[Parallel(n_jobs=4)]: Done   8 tasks      | elapsed:  8.9min\n",
      "Pickling array (shape=(29892, 63), dtype=object).\n",
      "Pickling array (shape=(29892,), dtype=float64).\n",
      "Pickling array (shape=(19928,), dtype=int64).\n",
      "Pickling array (shape=(9964,), dtype=int64).\n",
      "[Parallel(n_jobs=4)]: Done   9 tasks      | elapsed: 10.7min\n",
      "Pickling array (shape=(29892, 63), dtype=object).\n",
      "Pickling array (shape=(29892,), dtype=float64).\n",
      "Pickling array (shape=(19928,), dtype=int64).\n",
      "Pickling array (shape=(9964,), dtype=int64).\n",
      "[Parallel(n_jobs=4)]: Done  10 tasks      | elapsed: 12.9min\n",
      "Pickling array (shape=(29892, 63), dtype=object).\n",
      "Pickling array (shape=(29892,), dtype=float64).\n",
      "Pickling array (shape=(19928,), dtype=int64).\n",
      "Pickling array (shape=(9964,), dtype=int64).\n",
      "[Parallel(n_jobs=4)]: Done  11 tasks      | elapsed: 14.1min\n",
      "Pickling array (shape=(29892, 63), dtype=object).\n",
      "Pickling array (shape=(29892,), dtype=float64).\n",
      "Pickling array (shape=(19928,), dtype=int64).\n",
      "Pickling array (shape=(9964,), dtype=int64).\n",
      "[Parallel(n_jobs=4)]: Done  12 tasks      | elapsed: 14.5min\n",
      "Pickling array (shape=(29892, 63), dtype=object).\n",
      "Pickling array (shape=(29892,), dtype=float64).\n",
      "Pickling array (shape=(19928,), dtype=int64).\n",
      "Pickling array (shape=(9964,), dtype=int64).\n",
      "[Parallel(n_jobs=4)]: Done  13 tasks      | elapsed: 16.2min\n",
      "Pickling array (shape=(29892, 63), dtype=object).\n",
      "Pickling array (shape=(29892,), dtype=float64).\n",
      "Pickling array (shape=(19928,), dtype=int64).\n",
      "Pickling array (shape=(9964,), dtype=int64).\n",
      "[Parallel(n_jobs=4)]: Done  14 tasks      | elapsed: 16.3min\n",
      "Pickling array (shape=(29892, 63), dtype=object).\n",
      "Pickling array (shape=(29892,), dtype=float64).\n",
      "Pickling array (shape=(19928,), dtype=int64).\n",
      "Pickling array (shape=(9964,), dtype=int64).\n",
      "[Parallel(n_jobs=4)]: Done  15 tasks      | elapsed: 17.5min\n",
      "Pickling array (shape=(29892, 63), dtype=object).\n",
      "Pickling array (shape=(29892,), dtype=float64).\n",
      "Pickling array (shape=(19928,), dtype=int64).\n",
      "Pickling array (shape=(9964,), dtype=int64).\n",
      "[Parallel(n_jobs=4)]: Done  16 tasks      | elapsed: 19.2min\n",
      "Pickling array (shape=(29892, 63), dtype=object).\n",
      "Pickling array (shape=(29892,), dtype=float64).\n",
      "Pickling array (shape=(19928,), dtype=int64).\n",
      "Pickling array (shape=(9964,), dtype=int64).\n",
      "[Parallel(n_jobs=4)]: Done  17 tasks      | elapsed: 21.0min\n",
      "Pickling array (shape=(29892, 63), dtype=object).\n",
      "Pickling array (shape=(29892,), dtype=float64).\n",
      "Pickling array (shape=(19928,), dtype=int64).\n",
      "Pickling array (shape=(9964,), dtype=int64).\n"
     ]
    }
   ],
   "source": [
    "# Run the grid search - on only the training data!\n",
    "gs_cv.fit(X_train, y_train)"
   ]
  },
  {
   "cell_type": "code",
   "execution_count": null,
   "metadata": {},
   "outputs": [],
   "source": [
    "# Print the parameters that gave us the best result!\n",
    "print(gs_cv.best_params_)"
   ]
  },
  {
   "cell_type": "code",
   "execution_count": null,
   "metadata": {},
   "outputs": [],
   "source": [
    "# Find the error rate on the training set using the best parameters\n",
    "mse = mean_absolute_error(y_train, gs_cv.predict(X_train))\n",
    "print(\"Training Set Mean Absolute Error: %.4f\" % mse)"
   ]
  },
  {
   "cell_type": "code",
   "execution_count": null,
   "metadata": {},
   "outputs": [],
   "source": [
    "# Find the error rate on the test set using the best parameters\n",
    "mse = mean_absolute_error(y_test, gs_cv.predict(X_test))\n",
    "print(\"Test Set Mean Absolute Error: %.4f\" % mse)"
   ]
  }
 ],
 "metadata": {
  "kernelspec": {
   "display_name": "Python 3",
   "language": "python",
   "name": "python3"
  },
  "language_info": {
   "codemirror_mode": {
    "name": "ipython",
    "version": 3
   },
   "file_extension": ".py",
   "mimetype": "text/x-python",
   "name": "python",
   "nbconvert_exporter": "python",
   "pygments_lexer": "ipython3",
   "version": "3.7.4"
  }
 },
 "nbformat": 4,
 "nbformat_minor": 4
}
