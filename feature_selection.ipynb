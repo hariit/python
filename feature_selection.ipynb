{
 "cells": [
  {
   "cell_type": "code",
   "execution_count": 1,
   "metadata": {},
   "outputs": [
    {
     "name": "stderr",
     "output_type": "stream",
     "text": [
      "/Users/Swethari/opt/anaconda3/lib/python3.7/site-packages/sklearn/externals/joblib/__init__.py:15: DeprecationWarning: sklearn.externals.joblib is deprecated in 0.21 and will be removed in 0.23. Please import this functionality directly from joblib, which can be installed with: pip install joblib. If this warning is raised when loading pickled models, you may need to re-serialize those models with scikit-learn 0.21+.\n",
      "  warnings.warn(msg, category=DeprecationWarning)\n"
     ]
    }
   ],
   "source": [
    "import numpy as np\n",
    "from sklearn.externals import joblib"
   ]
  },
  {
   "cell_type": "code",
   "execution_count": 3,
   "metadata": {},
   "outputs": [],
   "source": [
    "# These are the feature labels from our data set\n",
    "feature_labels = np.array(['year_built', 'stories', 'num_bedrooms', 'full_bathrooms', 'half_bathrooms', 'livable_sqft', 'total_sqft', 'garage_sqft', 'carport_sqft', 'has_fireplace', 'has_pool', 'has_central_heating', 'has_central_cooling', 'garage_type_attached', 'garage_type_detached', 'garage_type_none', 'city_Amystad', 'city_Brownport', 'city_Chadstad', 'city_Clarkberg', 'city_Coletown', 'city_Davidfort', 'city_Davidtown', 'city_East Amychester', 'city_East Janiceville', 'city_East Justin', 'city_East Lucas', 'city_Fosterberg', 'city_Hallfort', 'city_Jeffreyhaven', 'city_Jenniferberg', 'city_Joshuafurt', 'city_Julieberg', 'city_Justinport', 'city_Lake Carolyn', 'city_Lake Christinaport', 'city_Lake Dariusborough', 'city_Lake Jack', 'city_Lake Jennifer', 'city_Leahview', 'city_Lewishaven', 'city_Martinezfort', 'city_Morrisport', 'city_New Michele', 'city_New Robinton', 'city_North Erinville', 'city_Port Adamtown', 'city_Port Andrealand', 'city_Port Daniel', 'city_Port Jonathanborough', 'city_Richardport', 'city_Rickytown', 'city_Scottberg', 'city_South Anthony', 'city_South Stevenfurt', 'city_Toddshire', 'city_Wendybury', 'city_West Ann', 'city_West Brittanyview', 'city_West Gerald', 'city_West Gregoryview', 'city_West Lydia', 'city_West Terrence'])"
   ]
  },
  {
   "cell_type": "code",
   "execution_count": 4,
   "metadata": {},
   "outputs": [],
   "source": [
    "# Load the trained model created with train_model.py\n",
    "model = joblib.load('models//trained_house_classifier_model.pkl')"
   ]
  },
  {
   "cell_type": "code",
   "execution_count": 5,
   "metadata": {},
   "outputs": [],
   "source": [
    "# Create a numpy array based on the model's feature importances\n",
    "importance = model.feature_importances_"
   ]
  },
  {
   "cell_type": "code",
   "execution_count": 6,
   "metadata": {},
   "outputs": [],
   "source": [
    "# Sort the feature labels based on the feature importance rankings from the model\n",
    "feature_indexes_by_importance = importance.argsort()"
   ]
  },
  {
   "cell_type": "code",
   "execution_count": 7,
   "metadata": {},
   "outputs": [
    {
     "name": "stdout",
     "output_type": "stream",
     "text": [
      "city_New Robinton - 0.00%\n",
      "city_New Michele - 0.00%\n",
      "city_Martinezfort - 0.00%\n",
      "city_Julieberg - 0.00%\n",
      "city_Davidtown - 0.00%\n",
      "city_Rickytown - 0.00%\n",
      "city_East Justin - 0.01%\n",
      "city_Lake Jennifer - 0.01%\n",
      "city_West Brittanyview - 0.01%\n",
      "city_South Stevenfurt - 0.01%\n",
      "city_West Terrence - 0.01%\n",
      "city_Fosterberg - 0.02%\n",
      "city_Leahview - 0.03%\n",
      "city_Brownport - 0.03%\n",
      "city_Port Adamtown - 0.03%\n",
      "city_Joshuafurt - 0.04%\n",
      "city_Amystad - 0.04%\n",
      "city_Toddshire - 0.05%\n",
      "city_East Janiceville - 0.05%\n",
      "city_Wendybury - 0.05%\n",
      "city_Port Daniel - 0.05%\n",
      "city_Clarkberg - 0.10%\n",
      "garage_type_detached - 0.11%\n",
      "has_central_cooling - 0.12%\n",
      "city_Jenniferberg - 0.15%\n",
      "city_East Amychester - 0.15%\n",
      "city_West Lydia - 0.16%\n",
      "city_Port Jonathanborough - 0.17%\n",
      "city_West Gerald - 0.17%\n",
      "city_Davidfort - 0.18%\n",
      "city_North Erinville - 0.21%\n",
      "city_Lewishaven - 0.23%\n",
      "city_Richardport - 0.26%\n",
      "has_central_heating - 0.30%\n",
      "city_Lake Carolyn - 0.32%\n",
      "city_West Gregoryview - 0.33%\n",
      "city_East Lucas - 0.34%\n",
      "city_South Anthony - 0.38%\n",
      "city_Morrisport - 0.41%\n",
      "city_Lake Dariusborough - 0.41%\n",
      "city_West Ann - 0.48%\n",
      "city_Justinport - 0.51%\n",
      "half_bathrooms - 0.58%\n",
      "city_Hallfort - 0.64%\n",
      "garage_type_attached - 0.78%\n",
      "city_Chadstad - 1.25%\n",
      "city_Scottberg - 1.40%\n",
      "city_Lake Christinaport - 1.44%\n",
      "city_Port Andrealand - 1.48%\n",
      "city_Lake Jack - 1.65%\n",
      "stories - 2.09%\n",
      "num_bedrooms - 2.57%\n",
      "city_Jeffreyhaven - 2.90%\n",
      "carport_sqft - 3.42%\n",
      "garage_sqft - 4.18%\n",
      "city_Coletown - 4.60%\n",
      "has_pool - 4.61%\n",
      "has_fireplace - 5.14%\n",
      "year_built - 5.74%\n",
      "full_bathrooms - 6.24%\n",
      "garage_type_none - 8.42%\n",
      "total_sqft - 8.90%\n",
      "livable_sqft - 26.03%\n"
     ]
    }
   ],
   "source": [
    "# Print each feature label, from most important to least important (reverse order)\n",
    "for index in feature_indexes_by_importance:\n",
    "    print(\"{} - {:.2f}%\".format(feature_labels[index], (importance[index] * 100.0)))"
   ]
  },
  {
   "cell_type": "code",
   "execution_count": null,
   "metadata": {},
   "outputs": [],
   "source": []
  }
 ],
 "metadata": {
  "kernelspec": {
   "display_name": "Python 3",
   "language": "python",
   "name": "python3"
  },
  "language_info": {
   "codemirror_mode": {
    "name": "ipython",
    "version": 3
   },
   "file_extension": ".py",
   "mimetype": "text/x-python",
   "name": "python",
   "nbconvert_exporter": "python",
   "pygments_lexer": "ipython3",
   "version": "3.7.4"
  }
 },
 "nbformat": 4,
 "nbformat_minor": 4
}
