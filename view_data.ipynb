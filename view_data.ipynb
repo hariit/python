{
 "cells": [
  {
   "cell_type": "code",
   "execution_count": 1,
   "metadata": {},
   "outputs": [
    {
     "data": {
      "text/plain": [
       "True"
      ]
     },
     "execution_count": 1,
     "metadata": {},
     "output_type": "execute_result"
    }
   ],
   "source": [
    "import pandas\n",
    "import webbrowser\n",
    "import os\n",
    "\n",
    "# Read the dataset into a data table using Pandas\n",
    "data_table = pandas.read_csv(\"data//ml_house_data_set.csv\")\n",
    "\n",
    "# Create a Web page view of data for easy viewing\n",
    "html = data_table[0:100].to_html()\n",
    "\n",
    "filename = \"data.html\"\n",
    "\n",
    "# Save the html to a temporary file\n",
    "with open(filename, \"w\") as f:\n",
    "    f.write(html)\n",
    "    \n",
    "# Open the web page in our web browser\n",
    "full_filename = os.path.abspath(filename)\n",
    "webbrowser.open(\"file://{}\".format(full_filename))"
   ]
  },
  {
   "cell_type": "code",
   "execution_count": null,
   "metadata": {},
   "outputs": [],
   "source": []
  }
 ],
 "metadata": {
  "kernelspec": {
   "display_name": "Python 3",
   "language": "python",
   "name": "python3"
  },
  "language_info": {
   "codemirror_mode": {
    "name": "ipython",
    "version": 3
   },
   "file_extension": ".py",
   "mimetype": "text/x-python",
   "name": "python",
   "nbconvert_exporter": "python",
   "pygments_lexer": "ipython3",
   "version": "3.7.4"
  }
 },
 "nbformat": 4,
 "nbformat_minor": 4
}
